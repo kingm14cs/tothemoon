{
  "nbformat": 4,
  "nbformat_minor": 0,
  "metadata": {
    "colab": {
      "name": "ETH_NoSentiment.ipynb",
      "provenance": [],
      "collapsed_sections": []
    },
    "kernelspec": {
      "name": "python3",
      "display_name": "Python 3"
    },
    "language_info": {
      "name": "python"
    }
  },
  "cells": [
    {
      "cell_type": "code",
      "metadata": {
        "colab": {
          "base_uri": "https://localhost:8080/"
        },
        "id": "Ewtjq351Gt2N",
        "outputId": "a3a8a229-9453-4022-8be3-8661d8e997c9"
      },
      "source": [
        "!pip install fbprophet"
      ],
      "execution_count": null,
      "outputs": [
        {
          "output_type": "stream",
          "text": [
            "Requirement already satisfied: fbprophet in /usr/local/lib/python3.7/dist-packages (0.7.1)\n",
            "Requirement already satisfied: Cython>=0.22 in /usr/local/lib/python3.7/dist-packages (from fbprophet) (0.29.23)\n",
            "Requirement already satisfied: cmdstanpy==0.9.5 in /usr/local/lib/python3.7/dist-packages (from fbprophet) (0.9.5)\n",
            "Requirement already satisfied: pystan>=2.14 in /usr/local/lib/python3.7/dist-packages (from fbprophet) (2.19.1.1)\n",
            "Requirement already satisfied: numpy>=1.15.4 in /usr/local/lib/python3.7/dist-packages (from fbprophet) (1.19.5)\n",
            "Requirement already satisfied: pandas>=1.0.4 in /usr/local/lib/python3.7/dist-packages (from fbprophet) (1.1.5)\n",
            "Requirement already satisfied: matplotlib>=2.0.0 in /usr/local/lib/python3.7/dist-packages (from fbprophet) (3.2.2)\n",
            "Requirement already satisfied: LunarCalendar>=0.0.9 in /usr/local/lib/python3.7/dist-packages (from fbprophet) (0.0.9)\n",
            "Requirement already satisfied: convertdate>=2.1.2 in /usr/local/lib/python3.7/dist-packages (from fbprophet) (2.3.2)\n",
            "Requirement already satisfied: holidays>=0.10.2 in /usr/local/lib/python3.7/dist-packages (from fbprophet) (0.10.5.2)\n",
            "Requirement already satisfied: setuptools-git>=1.2 in /usr/local/lib/python3.7/dist-packages (from fbprophet) (1.2)\n",
            "Requirement already satisfied: python-dateutil>=2.8.0 in /usr/local/lib/python3.7/dist-packages (from fbprophet) (2.8.1)\n",
            "Requirement already satisfied: tqdm>=4.36.1 in /usr/local/lib/python3.7/dist-packages (from fbprophet) (4.41.1)\n",
            "Requirement already satisfied: pytz>=2014.10 in /usr/local/lib/python3.7/dist-packages (from convertdate>=2.1.2->fbprophet) (2018.9)\n",
            "Requirement already satisfied: pymeeus<=1,>=0.3.13 in /usr/local/lib/python3.7/dist-packages (from convertdate>=2.1.2->fbprophet) (0.5.11)\n",
            "Requirement already satisfied: six in /usr/local/lib/python3.7/dist-packages (from holidays>=0.10.2->fbprophet) (1.15.0)\n",
            "Requirement already satisfied: korean-lunar-calendar in /usr/local/lib/python3.7/dist-packages (from holidays>=0.10.2->fbprophet) (0.2.1)\n",
            "Requirement already satisfied: hijri-converter in /usr/local/lib/python3.7/dist-packages (from holidays>=0.10.2->fbprophet) (2.1.3)\n",
            "Requirement already satisfied: ephem>=3.7.5.3 in /usr/local/lib/python3.7/dist-packages (from LunarCalendar>=0.0.9->fbprophet) (4.0.0.2)\n",
            "Requirement already satisfied: cycler>=0.10 in /usr/local/lib/python3.7/dist-packages (from matplotlib>=2.0.0->fbprophet) (0.10.0)\n",
            "Requirement already satisfied: kiwisolver>=1.0.1 in /usr/local/lib/python3.7/dist-packages (from matplotlib>=2.0.0->fbprophet) (1.3.1)\n",
            "Requirement already satisfied: pyparsing!=2.0.4,!=2.1.2,!=2.1.6,>=2.0.1 in /usr/local/lib/python3.7/dist-packages (from matplotlib>=2.0.0->fbprophet) (2.4.7)\n"
          ],
          "name": "stdout"
        }
      ]
    },
    {
      "cell_type": "code",
      "metadata": {
        "id": "Yig-SBBNFDz_"
      },
      "source": [
        "from sklearn.metrics import mean_squared_error\n",
        "from sklearn.metrics import mean_absolute_error\n",
        "from sklearn.metrics import r2_score\n",
        "from fbprophet.utilities import regressor_coefficients\n",
        "from google.colab import files"
      ],
      "execution_count": null,
      "outputs": []
    },
    {
      "cell_type": "code",
      "metadata": {
        "colab": {
          "base_uri": "https://localhost:8080/",
          "height": 266
        },
        "id": "JCozXHNMGTbo",
        "outputId": "d559dfa1-bb54-4446-f65f-c807f24bbcf5"
      },
      "source": [
        "import numpy as np\n",
        "import pandas as pd\n",
        "import matplotlib.pyplot as plt\n",
        "# Load the dataset using pandas\n",
        "data = pd.read_csv(\"ETH-USD-Modified.csv\") \n",
        "data.head(10)"
      ],
      "execution_count": null,
      "outputs": [
        {
          "output_type": "execute_result",
          "data": {
            "text/html": [
              "<div>\n",
              "<style scoped>\n",
              "    .dataframe tbody tr th:only-of-type {\n",
              "        vertical-align: middle;\n",
              "    }\n",
              "\n",
              "    .dataframe tbody tr th {\n",
              "        vertical-align: top;\n",
              "    }\n",
              "\n",
              "    .dataframe thead th {\n",
              "        text-align: right;\n",
              "    }\n",
              "</style>\n",
              "<table border=\"1\" class=\"dataframe\">\n",
              "  <thead>\n",
              "    <tr style=\"text-align: right;\">\n",
              "      <th></th>\n",
              "      <th>Date</th>\n",
              "      <th>Close</th>\n",
              "      <th>weighted_sentiment</th>\n",
              "      <th>Close_Diff</th>\n",
              "      <th>Sentiment_Diff</th>\n",
              "    </tr>\n",
              "  </thead>\n",
              "  <tbody>\n",
              "    <tr>\n",
              "      <th>0</th>\n",
              "      <td>2021-07-19</td>\n",
              "      <td>1817.296631</td>\n",
              "      <td>0.305185</td>\n",
              "      <td>0.000000</td>\n",
              "      <td>0.000000</td>\n",
              "    </tr>\n",
              "    <tr>\n",
              "      <th>1</th>\n",
              "      <td>2021-07-20</td>\n",
              "      <td>1787.510742</td>\n",
              "      <td>0.087087</td>\n",
              "      <td>-29.785889</td>\n",
              "      <td>-0.218098</td>\n",
              "    </tr>\n",
              "    <tr>\n",
              "      <th>2</th>\n",
              "      <td>2021-07-21</td>\n",
              "      <td>1990.970825</td>\n",
              "      <td>0.291774</td>\n",
              "      <td>203.460083</td>\n",
              "      <td>0.204687</td>\n",
              "    </tr>\n",
              "    <tr>\n",
              "      <th>3</th>\n",
              "      <td>2021-07-22</td>\n",
              "      <td>2025.202759</td>\n",
              "      <td>0.393122</td>\n",
              "      <td>34.231934</td>\n",
              "      <td>0.101348</td>\n",
              "    </tr>\n",
              "    <tr>\n",
              "      <th>4</th>\n",
              "      <td>2021-07-23</td>\n",
              "      <td>2124.776611</td>\n",
              "      <td>0.666671</td>\n",
              "      <td>99.573852</td>\n",
              "      <td>0.273549</td>\n",
              "    </tr>\n",
              "    <tr>\n",
              "      <th>5</th>\n",
              "      <td>2021-07-24</td>\n",
              "      <td>2189.218750</td>\n",
              "      <td>0.552629</td>\n",
              "      <td>64.442139</td>\n",
              "      <td>-0.114042</td>\n",
              "    </tr>\n",
              "    <tr>\n",
              "      <th>6</th>\n",
              "      <td>2021-07-25</td>\n",
              "      <td>2191.373779</td>\n",
              "      <td>0.181296</td>\n",
              "      <td>2.155029</td>\n",
              "      <td>-0.371334</td>\n",
              "    </tr>\n",
              "  </tbody>\n",
              "</table>\n",
              "</div>"
            ],
            "text/plain": [
              "         Date        Close  weighted_sentiment  Close_Diff  Sentiment_Diff\n",
              "0  2021-07-19  1817.296631            0.305185    0.000000        0.000000\n",
              "1  2021-07-20  1787.510742            0.087087  -29.785889       -0.218098\n",
              "2  2021-07-21  1990.970825            0.291774  203.460083        0.204687\n",
              "3  2021-07-22  2025.202759            0.393122   34.231934        0.101348\n",
              "4  2021-07-23  2124.776611            0.666671   99.573852        0.273549\n",
              "5  2021-07-24  2189.218750            0.552629   64.442139       -0.114042\n",
              "6  2021-07-25  2191.373779            0.181296    2.155029       -0.371334"
            ]
          },
          "metadata": {
            "tags": []
          },
          "execution_count": 6
        }
      ]
    },
    {
      "cell_type": "code",
      "metadata": {
        "colab": {
          "base_uri": "https://localhost:8080/",
          "height": 266
        },
        "id": "Zwj5VmeLGlDg",
        "outputId": "a61555d2-128b-4a4d-c9fb-c1dd898366ac"
      },
      "source": [
        "data.dtypes\n",
        "data['Date'] = pd.to_datetime(data['Date'])\n",
        "data.dtypes\n",
        "data.head(10)"
      ],
      "execution_count": null,
      "outputs": [
        {
          "output_type": "execute_result",
          "data": {
            "text/html": [
              "<div>\n",
              "<style scoped>\n",
              "    .dataframe tbody tr th:only-of-type {\n",
              "        vertical-align: middle;\n",
              "    }\n",
              "\n",
              "    .dataframe tbody tr th {\n",
              "        vertical-align: top;\n",
              "    }\n",
              "\n",
              "    .dataframe thead th {\n",
              "        text-align: right;\n",
              "    }\n",
              "</style>\n",
              "<table border=\"1\" class=\"dataframe\">\n",
              "  <thead>\n",
              "    <tr style=\"text-align: right;\">\n",
              "      <th></th>\n",
              "      <th>Date</th>\n",
              "      <th>Close</th>\n",
              "      <th>weighted_sentiment</th>\n",
              "      <th>Close_Diff</th>\n",
              "      <th>Sentiment_Diff</th>\n",
              "    </tr>\n",
              "  </thead>\n",
              "  <tbody>\n",
              "    <tr>\n",
              "      <th>0</th>\n",
              "      <td>2021-07-19</td>\n",
              "      <td>1817.296631</td>\n",
              "      <td>0.305185</td>\n",
              "      <td>0.000000</td>\n",
              "      <td>0.000000</td>\n",
              "    </tr>\n",
              "    <tr>\n",
              "      <th>1</th>\n",
              "      <td>2021-07-20</td>\n",
              "      <td>1787.510742</td>\n",
              "      <td>0.087087</td>\n",
              "      <td>-29.785889</td>\n",
              "      <td>-0.218098</td>\n",
              "    </tr>\n",
              "    <tr>\n",
              "      <th>2</th>\n",
              "      <td>2021-07-21</td>\n",
              "      <td>1990.970825</td>\n",
              "      <td>0.291774</td>\n",
              "      <td>203.460083</td>\n",
              "      <td>0.204687</td>\n",
              "    </tr>\n",
              "    <tr>\n",
              "      <th>3</th>\n",
              "      <td>2021-07-22</td>\n",
              "      <td>2025.202759</td>\n",
              "      <td>0.393122</td>\n",
              "      <td>34.231934</td>\n",
              "      <td>0.101348</td>\n",
              "    </tr>\n",
              "    <tr>\n",
              "      <th>4</th>\n",
              "      <td>2021-07-23</td>\n",
              "      <td>2124.776611</td>\n",
              "      <td>0.666671</td>\n",
              "      <td>99.573852</td>\n",
              "      <td>0.273549</td>\n",
              "    </tr>\n",
              "    <tr>\n",
              "      <th>5</th>\n",
              "      <td>2021-07-24</td>\n",
              "      <td>2189.218750</td>\n",
              "      <td>0.552629</td>\n",
              "      <td>64.442139</td>\n",
              "      <td>-0.114042</td>\n",
              "    </tr>\n",
              "    <tr>\n",
              "      <th>6</th>\n",
              "      <td>2021-07-25</td>\n",
              "      <td>2191.373779</td>\n",
              "      <td>0.181296</td>\n",
              "      <td>2.155029</td>\n",
              "      <td>-0.371334</td>\n",
              "    </tr>\n",
              "  </tbody>\n",
              "</table>\n",
              "</div>"
            ],
            "text/plain": [
              "        Date        Close  weighted_sentiment  Close_Diff  Sentiment_Diff\n",
              "0 2021-07-19  1817.296631            0.305185    0.000000        0.000000\n",
              "1 2021-07-20  1787.510742            0.087087  -29.785889       -0.218098\n",
              "2 2021-07-21  1990.970825            0.291774  203.460083        0.204687\n",
              "3 2021-07-22  2025.202759            0.393122   34.231934        0.101348\n",
              "4 2021-07-23  2124.776611            0.666671   99.573852        0.273549\n",
              "5 2021-07-24  2189.218750            0.552629   64.442139       -0.114042\n",
              "6 2021-07-25  2191.373779            0.181296    2.155029       -0.371334"
            ]
          },
          "metadata": {
            "tags": []
          },
          "execution_count": 7
        }
      ]
    },
    {
      "cell_type": "code",
      "metadata": {
        "colab": {
          "base_uri": "https://localhost:8080/",
          "height": 266
        },
        "id": "lRvtw21_GndP",
        "outputId": "09d2ca9c-2f9c-4844-c98d-32880c6d7579"
      },
      "source": [
        "data.columns = ['ds', 'y', 'ws', 'cd', 'sd']#renaming the columns of the dataset\n",
        "data.head(10)"
      ],
      "execution_count": null,
      "outputs": [
        {
          "output_type": "execute_result",
          "data": {
            "text/html": [
              "<div>\n",
              "<style scoped>\n",
              "    .dataframe tbody tr th:only-of-type {\n",
              "        vertical-align: middle;\n",
              "    }\n",
              "\n",
              "    .dataframe tbody tr th {\n",
              "        vertical-align: top;\n",
              "    }\n",
              "\n",
              "    .dataframe thead th {\n",
              "        text-align: right;\n",
              "    }\n",
              "</style>\n",
              "<table border=\"1\" class=\"dataframe\">\n",
              "  <thead>\n",
              "    <tr style=\"text-align: right;\">\n",
              "      <th></th>\n",
              "      <th>ds</th>\n",
              "      <th>y</th>\n",
              "      <th>ws</th>\n",
              "      <th>cd</th>\n",
              "      <th>sd</th>\n",
              "    </tr>\n",
              "  </thead>\n",
              "  <tbody>\n",
              "    <tr>\n",
              "      <th>0</th>\n",
              "      <td>2021-07-19</td>\n",
              "      <td>1817.296631</td>\n",
              "      <td>0.305185</td>\n",
              "      <td>0.000000</td>\n",
              "      <td>0.000000</td>\n",
              "    </tr>\n",
              "    <tr>\n",
              "      <th>1</th>\n",
              "      <td>2021-07-20</td>\n",
              "      <td>1787.510742</td>\n",
              "      <td>0.087087</td>\n",
              "      <td>-29.785889</td>\n",
              "      <td>-0.218098</td>\n",
              "    </tr>\n",
              "    <tr>\n",
              "      <th>2</th>\n",
              "      <td>2021-07-21</td>\n",
              "      <td>1990.970825</td>\n",
              "      <td>0.291774</td>\n",
              "      <td>203.460083</td>\n",
              "      <td>0.204687</td>\n",
              "    </tr>\n",
              "    <tr>\n",
              "      <th>3</th>\n",
              "      <td>2021-07-22</td>\n",
              "      <td>2025.202759</td>\n",
              "      <td>0.393122</td>\n",
              "      <td>34.231934</td>\n",
              "      <td>0.101348</td>\n",
              "    </tr>\n",
              "    <tr>\n",
              "      <th>4</th>\n",
              "      <td>2021-07-23</td>\n",
              "      <td>2124.776611</td>\n",
              "      <td>0.666671</td>\n",
              "      <td>99.573852</td>\n",
              "      <td>0.273549</td>\n",
              "    </tr>\n",
              "    <tr>\n",
              "      <th>5</th>\n",
              "      <td>2021-07-24</td>\n",
              "      <td>2189.218750</td>\n",
              "      <td>0.552629</td>\n",
              "      <td>64.442139</td>\n",
              "      <td>-0.114042</td>\n",
              "    </tr>\n",
              "    <tr>\n",
              "      <th>6</th>\n",
              "      <td>2021-07-25</td>\n",
              "      <td>2191.373779</td>\n",
              "      <td>0.181296</td>\n",
              "      <td>2.155029</td>\n",
              "      <td>-0.371334</td>\n",
              "    </tr>\n",
              "  </tbody>\n",
              "</table>\n",
              "</div>"
            ],
            "text/plain": [
              "          ds            y        ws          cd        sd\n",
              "0 2021-07-19  1817.296631  0.305185    0.000000  0.000000\n",
              "1 2021-07-20  1787.510742  0.087087  -29.785889 -0.218098\n",
              "2 2021-07-21  1990.970825  0.291774  203.460083  0.204687\n",
              "3 2021-07-22  2025.202759  0.393122   34.231934  0.101348\n",
              "4 2021-07-23  2124.776611  0.666671   99.573852  0.273549\n",
              "5 2021-07-24  2189.218750  0.552629   64.442139 -0.114042\n",
              "6 2021-07-25  2191.373779  0.181296    2.155029 -0.371334"
            ]
          },
          "metadata": {
            "tags": []
          },
          "execution_count": 9
        }
      ]
    },
    {
      "cell_type": "code",
      "metadata": {
        "colab": {
          "base_uri": "https://localhost:8080/"
        },
        "id": "dGPZlUAAG_Tc",
        "outputId": "8a502153-5d44-4378-b2c0-2f720ec9d215"
      },
      "source": [
        "from fbprophet import Prophet\n",
        "m = Prophet(daily_seasonality = True) # the Prophet class (model)\n",
        "m.fit(data) # fit the model using all data\n",
        "data.dtypes"
      ],
      "execution_count": null,
      "outputs": [
        {
          "output_type": "stream",
          "text": [
            "INFO:numexpr.utils:NumExpr defaulting to 2 threads.\n",
            "INFO:fbprophet:Disabling yearly seasonality. Run prophet with yearly_seasonality=True to override this.\n",
            "INFO:fbprophet:Disabling weekly seasonality. Run prophet with weekly_seasonality=True to override this.\n",
            "INFO:fbprophet:n_changepoints greater than number of observations. Using 4.\n"
          ],
          "name": "stderr"
        },
        {
          "output_type": "execute_result",
          "data": {
            "text/plain": [
              "ds    datetime64[ns]\n",
              "y            float64\n",
              "ws           float64\n",
              "cd           float64\n",
              "sd           float64\n",
              "dtype: object"
            ]
          },
          "metadata": {
            "tags": []
          },
          "execution_count": 10
        }
      ]
    },
    {
      "cell_type": "code",
      "metadata": {
        "colab": {
          "base_uri": "https://localhost:8080/",
          "height": 695
        },
        "id": "izfqhMizHH_K",
        "outputId": "bf34d101-4c58-4a1c-fe16-10dbf13a5a19"
      },
      "source": [
        "future = m.make_future_dataframe(periods=1) #we need to specify the number of days in future\n",
        "print(future)\n",
        "prediction = m.predict(future)\n",
        "print(prediction.columns)\n",
        "m.plot(prediction)\n",
        "plt.title(\"Prediction of the Ethereum Stock Price using the Prophet\")\n",
        "plt.xlabel(\"Date\")\n",
        "plt.ylabel(\"Close Stock Price\")\n",
        "plt.savefig(\"ETH-NoSentiment.png\", bbox_inches='tight')\n",
        "plt.show()\n",
        "files.download(\"ETH-NoSentiment.png\") "
      ],
      "execution_count": null,
      "outputs": [
        {
          "output_type": "stream",
          "text": [
            "          ds\n",
            "0 2021-07-19\n",
            "1 2021-07-20\n",
            "2 2021-07-21\n",
            "3 2021-07-22\n",
            "4 2021-07-23\n",
            "5 2021-07-24\n",
            "6 2021-07-25\n",
            "7 2021-07-26\n",
            "Index(['ds', 'trend', 'yhat_lower', 'yhat_upper', 'trend_lower', 'trend_upper',\n",
            "       'additive_terms', 'additive_terms_lower', 'additive_terms_upper',\n",
            "       'daily', 'daily_lower', 'daily_upper', 'multiplicative_terms',\n",
            "       'multiplicative_terms_lower', 'multiplicative_terms_upper', 'yhat'],\n",
            "      dtype='object')\n"
          ],
          "name": "stdout"
        },
        {
          "output_type": "display_data",
          "data": {
            "image/png": "[encoded data removed]",
            "text/plain": [
              "<Figure size 720x432 with 1 Axes>"
            ]
          },
          "metadata": {
            "tags": []
          }
        },
        {
          "output_type": "display_data",
          "data": {
            "application/javascript": [
              "\n",
              "    async function download(id, filename, size) {\n",
              "      if (!google.colab.kernel.accessAllowed) {\n",
              "        return;\n",
              "      }\n",
              "      const div = document.createElement('div');\n",
              "      const label = document.createElement('label');\n",
              "      label.textContent = `Downloading \"${filename}\": `;\n",
              "      div.appendChild(label);\n",
              "      const progress = document.createElement('progress');\n",
              "      progress.max = size;\n",
              "      div.appendChild(progress);\n",
              "      document.body.appendChild(div);\n",
              "\n",
              "      const buffers = [];\n",
              "      let downloaded = 0;\n",
              "\n",
              "      const channel = await google.colab.kernel.comms.open(id);\n",
              "      // Send a message to notify the kernel that we're ready.\n",
              "      channel.send({})\n",
              "\n",
              "      for await (const message of channel.messages) {\n",
              "        // Send a message to notify the kernel that we're ready.\n",
              "        channel.send({})\n",
              "        if (message.buffers) {\n",
              "          for (const buffer of message.buffers) {\n",
              "            buffers.push(buffer);\n",
              "            downloaded += buffer.byteLength;\n",
              "            progress.value = downloaded;\n",
              "          }\n",
              "        }\n",
              "      }\n",
              "      const blob = new Blob(buffers, {type: 'application/binary'});\n",
              "      const a = document.createElement('a');\n",
              "      a.href = window.URL.createObjectURL(blob);\n",
              "      a.download = filename;\n",
              "      div.appendChild(a);\n",
              "      a.click();\n",
              "      div.remove();\n",
              "    }\n",
              "  "
            ],
            "text/plain": [
              "<IPython.core.display.Javascript object>"
            ]
          },
          "metadata": {
            "tags": []
          }
        },
        {
          "output_type": "display_data",
          "data": {
            "application/javascript": [
              "download(\"download_d59cc31d-c43c-470b-84db-c29e8732f9ca\", \"ETC-NoSentiment.png\", 34355)"
            ],
            "text/plain": [
              "<IPython.core.display.Javascript object>"
            ]
          },
          "metadata": {
            "tags": []
          }
        }
      ]
    },
    {
      "cell_type": "code",
      "metadata": {
        "colab": {
          "base_uri": "https://localhost:8080/"
        },
        "id": "rHYegpFgCvoh",
        "outputId": "370b4539-a7e4-423f-e2bf-87378a4b292a"
      },
      "source": [
        "#set this value to the predicted day's closing price (day 8)\n",
        "day8_closing = 2332.62\t\n",
        "y_true = data.y.values\n",
        "y_true = np.append(y_true, day8_closing)\n",
        "print(\"Real prices: \", y_true)\n",
        "y_pred = prediction.yhat.values\n",
        "print(\"Predicted prices: \", y_pred)\n",
        "\n",
        "mse = mean_squared_error(y_true=y_true, y_pred=y_pred)#, squared=False)\n",
        "print(\"MSE =\", mse)\n",
        "mae = mean_absolute_error(y_true=y_true, y_pred=y_pred)\n",
        "print(\"MAE =\", mae)\n",
        "r2 = r2_score(y_true=y_true, y_pred=y_pred)\n",
        "print(\"r^2 =\", r2)"
      ],
      "execution_count": null,
      "outputs": [
        {
          "output_type": "stream",
          "text": [
            "[1817.296631 1787.510742 1990.970825 2025.202759 2124.776611 2189.21875\n",
            " 2191.373779 2332.62    ]\n",
            "[1796.9459548  1870.65893422 1944.37191213 2018.08489003 2091.79784225\n",
            " 2165.43211869 2239.06639512 2312.70067155]\n",
            "MSE = 1734.3328656292279\n",
            "MAE = 35.19912435956766\n",
            "r^2 = 0.9448433510338216\n"
          ],
          "name": "stdout"
        }
      ]
    },
    {
      "cell_type": "code",
      "metadata": {
        "colab": {
          "base_uri": "https://localhost:8080/",
          "height": 441
        },
        "id": "4WL7ERJqHJDn",
        "outputId": "e310c605-526c-4483-e2ab-699c99cbd492"
      },
      "source": [
        "m.plot_components(prediction)\n",
        "plt.show()"
      ],
      "execution_count": null,
      "outputs": [
        {
          "output_type": "display_data",
          "data": {
            "image/png": "[encoded data removed]",
            "text/plain": [
              "<Figure size 648x432 with 2 Axes>"
            ]
          },
          "metadata": {
            "tags": []
          }
        }
      ]
    },
    {
      "cell_type": "code",
      "metadata": {
        "id": "cFXJ_SAUHPoY"
      },
      "source": [
        "#https://realpython.com/python-nltk-sentiment-analysis/#using-nltks-pre-trained-sentiment-analyzer\n",
        "#https://futurice.com/blog/business-forecasting-with-facebook-prophet"
      ],
      "execution_count": null,
      "outputs": []
    }
  ]
}