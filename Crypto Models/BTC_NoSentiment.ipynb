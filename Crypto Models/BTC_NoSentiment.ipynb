{
  "nbformat": 4,
  "nbformat_minor": 0,
  "metadata": {
    "colab": {
      "name": "BTC_NoSentiment.ipynb",
      "provenance": [],
      "collapsed_sections": []
    },
    "kernelspec": {
      "name": "python3",
      "display_name": "Python 3"
    },
    "language_info": {
      "name": "python"
    }
  },
  "cells": [
    {
      "cell_type": "code",
      "metadata": {
        "colab": {
          "base_uri": "https://localhost:8080/"
        },
        "id": "Ewtjq351Gt2N",
        "outputId": "356d570c-fa28-4cac-e337-5457a0b03922"
      },
      "source": [
        "#!pip install fbprophet"
      ],
      "execution_count": null,
      "outputs": [
        {
          "output_type": "stream",
          "text": [
            "Requirement already satisfied: fbprophet in /usr/local/lib/python3.7/dist-packages (0.7.1)\n",
            "Requirement already satisfied: Cython>=0.22 in /usr/local/lib/python3.7/dist-packages (from fbprophet) (0.29.23)\n",
            "Requirement already satisfied: cmdstanpy==0.9.5 in /usr/local/lib/python3.7/dist-packages (from fbprophet) (0.9.5)\n",
            "Requirement already satisfied: pystan>=2.14 in /usr/local/lib/python3.7/dist-packages (from fbprophet) (2.19.1.1)\n",
            "Requirement already satisfied: numpy>=1.15.4 in /usr/local/lib/python3.7/dist-packages (from fbprophet) (1.19.5)\n",
            "Requirement already satisfied: pandas>=1.0.4 in /usr/local/lib/python3.7/dist-packages (from fbprophet) (1.1.5)\n",
            "Requirement already satisfied: matplotlib>=2.0.0 in /usr/local/lib/python3.7/dist-packages (from fbprophet) (3.2.2)\n",
            "Requirement already satisfied: LunarCalendar>=0.0.9 in /usr/local/lib/python3.7/dist-packages (from fbprophet) (0.0.9)\n",
            "Requirement already satisfied: convertdate>=2.1.2 in /usr/local/lib/python3.7/dist-packages (from fbprophet) (2.3.2)\n",
            "Requirement already satisfied: holidays>=0.10.2 in /usr/local/lib/python3.7/dist-packages (from fbprophet) (0.10.5.2)\n",
            "Requirement already satisfied: setuptools-git>=1.2 in /usr/local/lib/python3.7/dist-packages (from fbprophet) (1.2)\n",
            "Requirement already satisfied: python-dateutil>=2.8.0 in /usr/local/lib/python3.7/dist-packages (from fbprophet) (2.8.1)\n",
            "Requirement already satisfied: tqdm>=4.36.1 in /usr/local/lib/python3.7/dist-packages (from fbprophet) (4.41.1)\n",
            "Requirement already satisfied: pymeeus<=1,>=0.3.13 in /usr/local/lib/python3.7/dist-packages (from convertdate>=2.1.2->fbprophet) (0.5.11)\n",
            "Requirement already satisfied: pytz>=2014.10 in /usr/local/lib/python3.7/dist-packages (from convertdate>=2.1.2->fbprophet) (2018.9)\n",
            "Requirement already satisfied: korean-lunar-calendar in /usr/local/lib/python3.7/dist-packages (from holidays>=0.10.2->fbprophet) (0.2.1)\n",
            "Requirement already satisfied: six in /usr/local/lib/python3.7/dist-packages (from holidays>=0.10.2->fbprophet) (1.15.0)\n",
            "Requirement already satisfied: hijri-converter in /usr/local/lib/python3.7/dist-packages (from holidays>=0.10.2->fbprophet) (2.1.3)\n",
            "Requirement already satisfied: ephem>=3.7.5.3 in /usr/local/lib/python3.7/dist-packages (from LunarCalendar>=0.0.9->fbprophet) (4.0.0.2)\n",
            "Requirement already satisfied: pyparsing!=2.0.4,!=2.1.2,!=2.1.6,>=2.0.1 in /usr/local/lib/python3.7/dist-packages (from matplotlib>=2.0.0->fbprophet) (2.4.7)\n",
            "Requirement already satisfied: kiwisolver>=1.0.1 in /usr/local/lib/python3.7/dist-packages (from matplotlib>=2.0.0->fbprophet) (1.3.1)\n",
            "Requirement already satisfied: cycler>=0.10 in /usr/local/lib/python3.7/dist-packages (from matplotlib>=2.0.0->fbprophet) (0.10.0)\n"
          ],
          "name": "stdout"
        }
      ]
    },
    {
      "cell_type": "code",
      "metadata": {
        "id": "Yig-SBBNFDz_"
      },
      "source": [
        "from sklearn.metrics import mean_squared_error\n",
        "from sklearn.metrics import mean_absolute_error\n",
        "from sklearn.metrics import r2_score\n",
        "from fbprophet.utilities import regressor_coefficients\n",
        "from google.colab import files"
      ],
      "execution_count": null,
      "outputs": []
    },
    {
      "cell_type": "code",
      "metadata": {
        "colab": {
          "base_uri": "https://localhost:8080/",
          "height": 266
        },
        "id": "JCozXHNMGTbo",
        "outputId": "57f9824e-42e1-4b94-cdba-c5f5bbf582d1"
      },
      "source": [
        "import numpy as np\n",
        "import pandas as pd\n",
        "import matplotlib.pyplot as plt\n",
        "# Load the dataset using pandas\n",
        "data = pd.read_csv(\"BTC-USD-Modified.csv\") \n",
        "data.head(10)"
      ],
      "execution_count": null,
      "outputs": [
        {
          "output_type": "execute_result",
          "data": {
            "text/html": [
              "<div>\n",
              "<style scoped>\n",
              "    .dataframe tbody tr th:only-of-type {\n",
              "        vertical-align: middle;\n",
              "    }\n",
              "\n",
              "    .dataframe tbody tr th {\n",
              "        vertical-align: top;\n",
              "    }\n",
              "\n",
              "    .dataframe thead th {\n",
              "        text-align: right;\n",
              "    }\n",
              "</style>\n",
              "<table border=\"1\" class=\"dataframe\">\n",
              "  <thead>\n",
              "    <tr style=\"text-align: right;\">\n",
              "      <th></th>\n",
              "      <th>Date</th>\n",
              "      <th>Close</th>\n",
              "      <th>weighted_sentiment</th>\n",
              "      <th>Close_Diff</th>\n",
              "      <th>Sentiment_Diff</th>\n",
              "    </tr>\n",
              "  </thead>\n",
              "  <tbody>\n",
              "    <tr>\n",
              "      <th>0</th>\n",
              "      <td>2021-07-26</td>\n",
              "      <td>37337.535156</td>\n",
              "      <td>-0.144935</td>\n",
              "      <td>0.000000</td>\n",
              "      <td>0.000000</td>\n",
              "    </tr>\n",
              "    <tr>\n",
              "      <th>1</th>\n",
              "      <td>2021-07-27</td>\n",
              "      <td>39406.941406</td>\n",
              "      <td>0.075139</td>\n",
              "      <td>2069.406250</td>\n",
              "      <td>0.220075</td>\n",
              "    </tr>\n",
              "    <tr>\n",
              "      <th>2</th>\n",
              "      <td>2021-07-28</td>\n",
              "      <td>39995.906250</td>\n",
              "      <td>0.346511</td>\n",
              "      <td>588.964844</td>\n",
              "      <td>0.271372</td>\n",
              "    </tr>\n",
              "    <tr>\n",
              "      <th>3</th>\n",
              "      <td>2021-07-29</td>\n",
              "      <td>40008.421875</td>\n",
              "      <td>0.472747</td>\n",
              "      <td>12.515625</td>\n",
              "      <td>0.126236</td>\n",
              "    </tr>\n",
              "    <tr>\n",
              "      <th>4</th>\n",
              "      <td>2021-07-30</td>\n",
              "      <td>42235.546875</td>\n",
              "      <td>0.348919</td>\n",
              "      <td>2227.125000</td>\n",
              "      <td>-0.123828</td>\n",
              "    </tr>\n",
              "    <tr>\n",
              "      <th>5</th>\n",
              "      <td>2021-07-31</td>\n",
              "      <td>41626.195313</td>\n",
              "      <td>0.091941</td>\n",
              "      <td>-609.351562</td>\n",
              "      <td>-0.256979</td>\n",
              "    </tr>\n",
              "    <tr>\n",
              "      <th>6</th>\n",
              "      <td>2021-08-01</td>\n",
              "      <td>39974.894531</td>\n",
              "      <td>0.196600</td>\n",
              "      <td>-1651.300782</td>\n",
              "      <td>0.104659</td>\n",
              "    </tr>\n",
              "  </tbody>\n",
              "</table>\n",
              "</div>"
            ],
            "text/plain": [
              "         Date         Close  weighted_sentiment   Close_Diff  Sentiment_Diff\n",
              "0  2021-07-26  37337.535156           -0.144935     0.000000        0.000000\n",
              "1  2021-07-27  39406.941406            0.075139  2069.406250        0.220075\n",
              "2  2021-07-28  39995.906250            0.346511   588.964844        0.271372\n",
              "3  2021-07-29  40008.421875            0.472747    12.515625        0.126236\n",
              "4  2021-07-30  42235.546875            0.348919  2227.125000       -0.123828\n",
              "5  2021-07-31  41626.195313            0.091941  -609.351562       -0.256979\n",
              "6  2021-08-01  39974.894531            0.196600 -1651.300782        0.104659"
            ]
          },
          "metadata": {
            "tags": []
          },
          "execution_count": 2
        }
      ]
    },
    {
      "cell_type": "code",
      "metadata": {
        "colab": {
          "base_uri": "https://localhost:8080/",
          "height": 266
        },
        "id": "Zwj5VmeLGlDg",
        "outputId": "eed3a090-e96f-4910-ada5-c438a973ca6b"
      },
      "source": [
        "data.dtypes\n",
        "data['Date'] = pd.to_datetime(data['Date'])\n",
        "data.dtypes\n",
        "data.head(10)"
      ],
      "execution_count": null,
      "outputs": [
        {
          "output_type": "execute_result",
          "data": {
            "text/html": [
              "<div>\n",
              "<style scoped>\n",
              "    .dataframe tbody tr th:only-of-type {\n",
              "        vertical-align: middle;\n",
              "    }\n",
              "\n",
              "    .dataframe tbody tr th {\n",
              "        vertical-align: top;\n",
              "    }\n",
              "\n",
              "    .dataframe thead th {\n",
              "        text-align: right;\n",
              "    }\n",
              "</style>\n",
              "<table border=\"1\" class=\"dataframe\">\n",
              "  <thead>\n",
              "    <tr style=\"text-align: right;\">\n",
              "      <th></th>\n",
              "      <th>Date</th>\n",
              "      <th>Close</th>\n",
              "      <th>weighted_sentiment</th>\n",
              "      <th>Close_Diff</th>\n",
              "      <th>Sentiment_Diff</th>\n",
              "    </tr>\n",
              "  </thead>\n",
              "  <tbody>\n",
              "    <tr>\n",
              "      <th>0</th>\n",
              "      <td>2021-07-26</td>\n",
              "      <td>37337.535156</td>\n",
              "      <td>-0.144935</td>\n",
              "      <td>0.000000</td>\n",
              "      <td>0.000000</td>\n",
              "    </tr>\n",
              "    <tr>\n",
              "      <th>1</th>\n",
              "      <td>2021-07-27</td>\n",
              "      <td>39406.941406</td>\n",
              "      <td>0.075139</td>\n",
              "      <td>2069.406250</td>\n",
              "      <td>0.220075</td>\n",
              "    </tr>\n",
              "    <tr>\n",
              "      <th>2</th>\n",
              "      <td>2021-07-28</td>\n",
              "      <td>39995.906250</td>\n",
              "      <td>0.346511</td>\n",
              "      <td>588.964844</td>\n",
              "      <td>0.271372</td>\n",
              "    </tr>\n",
              "    <tr>\n",
              "      <th>3</th>\n",
              "      <td>2021-07-29</td>\n",
              "      <td>40008.421875</td>\n",
              "      <td>0.472747</td>\n",
              "      <td>12.515625</td>\n",
              "      <td>0.126236</td>\n",
              "    </tr>\n",
              "    <tr>\n",
              "      <th>4</th>\n",
              "      <td>2021-07-30</td>\n",
              "      <td>42235.546875</td>\n",
              "      <td>0.348919</td>\n",
              "      <td>2227.125000</td>\n",
              "      <td>-0.123828</td>\n",
              "    </tr>\n",
              "    <tr>\n",
              "      <th>5</th>\n",
              "      <td>2021-07-31</td>\n",
              "      <td>41626.195313</td>\n",
              "      <td>0.091941</td>\n",
              "      <td>-609.351562</td>\n",
              "      <td>-0.256979</td>\n",
              "    </tr>\n",
              "    <tr>\n",
              "      <th>6</th>\n",
              "      <td>2021-08-01</td>\n",
              "      <td>39974.894531</td>\n",
              "      <td>0.196600</td>\n",
              "      <td>-1651.300782</td>\n",
              "      <td>0.104659</td>\n",
              "    </tr>\n",
              "  </tbody>\n",
              "</table>\n",
              "</div>"
            ],
            "text/plain": [
              "        Date         Close  weighted_sentiment   Close_Diff  Sentiment_Diff\n",
              "0 2021-07-26  37337.535156           -0.144935     0.000000        0.000000\n",
              "1 2021-07-27  39406.941406            0.075139  2069.406250        0.220075\n",
              "2 2021-07-28  39995.906250            0.346511   588.964844        0.271372\n",
              "3 2021-07-29  40008.421875            0.472747    12.515625        0.126236\n",
              "4 2021-07-30  42235.546875            0.348919  2227.125000       -0.123828\n",
              "5 2021-07-31  41626.195313            0.091941  -609.351562       -0.256979\n",
              "6 2021-08-01  39974.894531            0.196600 -1651.300782        0.104659"
            ]
          },
          "metadata": {
            "tags": []
          },
          "execution_count": 3
        }
      ]
    },
    {
      "cell_type": "code",
      "metadata": {
        "colab": {
          "base_uri": "https://localhost:8080/",
          "height": 266
        },
        "id": "lRvtw21_GndP",
        "outputId": "ce75c56c-76a8-404e-f8a3-ba1928eaa199"
      },
      "source": [
        "data.columns = ['ds', 'y', 'ws', 'cd', 'sd']#renaming the columns of the dataset\n",
        "data.head(10)"
      ],
      "execution_count": null,
      "outputs": [
        {
          "output_type": "execute_result",
          "data": {
            "text/html": [
              "<div>\n",
              "<style scoped>\n",
              "    .dataframe tbody tr th:only-of-type {\n",
              "        vertical-align: middle;\n",
              "    }\n",
              "\n",
              "    .dataframe tbody tr th {\n",
              "        vertical-align: top;\n",
              "    }\n",
              "\n",
              "    .dataframe thead th {\n",
              "        text-align: right;\n",
              "    }\n",
              "</style>\n",
              "<table border=\"1\" class=\"dataframe\">\n",
              "  <thead>\n",
              "    <tr style=\"text-align: right;\">\n",
              "      <th></th>\n",
              "      <th>ds</th>\n",
              "      <th>y</th>\n",
              "      <th>ws</th>\n",
              "      <th>cd</th>\n",
              "      <th>sd</th>\n",
              "    </tr>\n",
              "  </thead>\n",
              "  <tbody>\n",
              "    <tr>\n",
              "      <th>0</th>\n",
              "      <td>2021-07-26</td>\n",
              "      <td>37337.535156</td>\n",
              "      <td>-0.144935</td>\n",
              "      <td>0.000000</td>\n",
              "      <td>0.000000</td>\n",
              "    </tr>\n",
              "    <tr>\n",
              "      <th>1</th>\n",
              "      <td>2021-07-27</td>\n",
              "      <td>39406.941406</td>\n",
              "      <td>0.075139</td>\n",
              "      <td>2069.406250</td>\n",
              "      <td>0.220075</td>\n",
              "    </tr>\n",
              "    <tr>\n",
              "      <th>2</th>\n",
              "      <td>2021-07-28</td>\n",
              "      <td>39995.906250</td>\n",
              "      <td>0.346511</td>\n",
              "      <td>588.964844</td>\n",
              "      <td>0.271372</td>\n",
              "    </tr>\n",
              "    <tr>\n",
              "      <th>3</th>\n",
              "      <td>2021-07-29</td>\n",
              "      <td>40008.421875</td>\n",
              "      <td>0.472747</td>\n",
              "      <td>12.515625</td>\n",
              "      <td>0.126236</td>\n",
              "    </tr>\n",
              "    <tr>\n",
              "      <th>4</th>\n",
              "      <td>2021-07-30</td>\n",
              "      <td>42235.546875</td>\n",
              "      <td>0.348919</td>\n",
              "      <td>2227.125000</td>\n",
              "      <td>-0.123828</td>\n",
              "    </tr>\n",
              "    <tr>\n",
              "      <th>5</th>\n",
              "      <td>2021-07-31</td>\n",
              "      <td>41626.195313</td>\n",
              "      <td>0.091941</td>\n",
              "      <td>-609.351562</td>\n",
              "      <td>-0.256979</td>\n",
              "    </tr>\n",
              "    <tr>\n",
              "      <th>6</th>\n",
              "      <td>2021-08-01</td>\n",
              "      <td>39974.894531</td>\n",
              "      <td>0.196600</td>\n",
              "      <td>-1651.300782</td>\n",
              "      <td>0.104659</td>\n",
              "    </tr>\n",
              "  </tbody>\n",
              "</table>\n",
              "</div>"
            ],
            "text/plain": [
              "          ds             y        ws           cd        sd\n",
              "0 2021-07-26  37337.535156 -0.144935     0.000000  0.000000\n",
              "1 2021-07-27  39406.941406  0.075139  2069.406250  0.220075\n",
              "2 2021-07-28  39995.906250  0.346511   588.964844  0.271372\n",
              "3 2021-07-29  40008.421875  0.472747    12.515625  0.126236\n",
              "4 2021-07-30  42235.546875  0.348919  2227.125000 -0.123828\n",
              "5 2021-07-31  41626.195313  0.091941  -609.351562 -0.256979\n",
              "6 2021-08-01  39974.894531  0.196600 -1651.300782  0.104659"
            ]
          },
          "metadata": {
            "tags": []
          },
          "execution_count": 4
        }
      ]
    },
    {
      "cell_type": "code",
      "metadata": {
        "colab": {
          "base_uri": "https://localhost:8080/"
        },
        "id": "dGPZlUAAG_Tc",
        "outputId": "881c40fe-d8c6-441e-9d0e-4bc9cbff3ae1"
      },
      "source": [
        "from fbprophet import Prophet\n",
        "m = Prophet(daily_seasonality = True) # the Prophet class (model)\n",
        "m.fit(data) # fit the model using all data\n",
        "data.dtypes"
      ],
      "execution_count": null,
      "outputs": [
        {
          "output_type": "stream",
          "text": [
            "INFO:numexpr.utils:NumExpr defaulting to 2 threads.\n",
            "INFO:fbprophet:Disabling yearly seasonality. Run prophet with yearly_seasonality=True to override this.\n",
            "INFO:fbprophet:Disabling weekly seasonality. Run prophet with weekly_seasonality=True to override this.\n",
            "INFO:fbprophet:n_changepoints greater than number of observations. Using 4.\n"
          ],
          "name": "stderr"
        },
        {
          "output_type": "execute_result",
          "data": {
            "text/plain": [
              "ds    datetime64[ns]\n",
              "y            float64\n",
              "ws           float64\n",
              "cd           float64\n",
              "sd           float64\n",
              "dtype: object"
            ]
          },
          "metadata": {
            "tags": []
          },
          "execution_count": 5
        }
      ]
    },
    {
      "cell_type": "code",
      "metadata": {
        "colab": {
          "base_uri": "https://localhost:8080/",
          "height": 695
        },
        "id": "izfqhMizHH_K",
        "outputId": "28f644ce-4c18-4184-ba11-4c7059570afa"
      },
      "source": [
        "future = m.make_future_dataframe(periods=1) #we need to specify the number of days in future\n",
        "print(future)\n",
        "prediction = m.predict(future)\n",
        "print(prediction.columns)\n",
        "m.plot(prediction)\n",
        "plt.title(\"Prediction of the Bitcoin Stock Price using the Prophet\")\n",
        "plt.xlabel(\"Date\")\n",
        "plt.ylabel(\"Close Stock Price\")\n",
        "plt.savefig(\"BTC-NoSentiment.png\", bbox_inches='tight')\n",
        "plt.show()\n",
        "files.download(\"BTC-NoSentiment.png\") "
      ],
      "execution_count": null,
      "outputs": [
        {
          "output_type": "stream",
          "text": [
            "          ds\n",
            "0 2021-07-26\n",
            "1 2021-07-27\n",
            "2 2021-07-28\n",
            "3 2021-07-29\n",
            "4 2021-07-30\n",
            "5 2021-07-31\n",
            "6 2021-08-01\n",
            "7 2021-08-02\n",
            "Index(['ds', 'trend', 'yhat_lower', 'yhat_upper', 'trend_lower', 'trend_upper',\n",
            "       'additive_terms', 'additive_terms_lower', 'additive_terms_upper',\n",
            "       'daily', 'daily_lower', 'daily_upper', 'multiplicative_terms',\n",
            "       'multiplicative_terms_lower', 'multiplicative_terms_upper', 'yhat'],\n",
            "      dtype='object')\n"
          ],
          "name": "stdout"
        },
        {
          "output_type": "display_data",
          "data": {
            "image/png": "[encoded data removed]",
            "text/plain": [
              "<Figure size 720x432 with 1 Axes>"
            ]
          },
          "metadata": {
            "tags": []
          }
        },
        {
          "output_type": "display_data",
          "data": {
            "application/javascript": [
              "\n",
              "    async function download(id, filename, size) {\n",
              "      if (!google.colab.kernel.accessAllowed) {\n",
              "        return;\n",
              "      }\n",
              "      const div = document.createElement('div');\n",
              "      const label = document.createElement('label');\n",
              "      label.textContent = `Downloading \"${filename}\": `;\n",
              "      div.appendChild(label);\n",
              "      const progress = document.createElement('progress');\n",
              "      progress.max = size;\n",
              "      div.appendChild(progress);\n",
              "      document.body.appendChild(div);\n",
              "\n",
              "      const buffers = [];\n",
              "      let downloaded = 0;\n",
              "\n",
              "      const channel = await google.colab.kernel.comms.open(id);\n",
              "      // Send a message to notify the kernel that we're ready.\n",
              "      channel.send({})\n",
              "\n",
              "      for await (const message of channel.messages) {\n",
              "        // Send a message to notify the kernel that we're ready.\n",
              "        channel.send({})\n",
              "        if (message.buffers) {\n",
              "          for (const buffer of message.buffers) {\n",
              "            buffers.push(buffer);\n",
              "            downloaded += buffer.byteLength;\n",
              "            progress.value = downloaded;\n",
              "          }\n",
              "        }\n",
              "      }\n",
              "      const blob = new Blob(buffers, {type: 'application/binary'});\n",
              "      const a = document.createElement('a');\n",
              "      a.href = window.URL.createObjectURL(blob);\n",
              "      a.download = filename;\n",
              "      div.appendChild(a);\n",
              "      a.click();\n",
              "      div.remove();\n",
              "    }\n",
              "  "
            ],
            "text/plain": [
              "<IPython.core.display.Javascript object>"
            ]
          },
          "metadata": {
            "tags": []
          }
        },
        {
          "output_type": "display_data",
          "data": {
            "application/javascript": [
              "download(\"download_b39d5938-25f0-48a1-b6c9-cfb99838dac9\", \"BTC-NoSentiment.png\", 33090)"
            ],
            "text/plain": [
              "<IPython.core.display.Javascript object>"
            ]
          },
          "metadata": {
            "tags": []
          }
        }
      ]
    },
    {
      "cell_type": "code",
      "metadata": {
        "colab": {
          "base_uri": "https://localhost:8080/"
        },
        "id": "rHYegpFgCvoh",
        "outputId": "eb638823-92b0-4b81-dc6f-737973ec3ee4"
      },
      "source": [
        "#set this value to the predicted day's closing price (day 8)\n",
        "day8_closing = 39730.23\t\n",
        "y_true = data.y.values\n",
        "y_true = np.append(y_true, day8_closing)\n",
        "print(\"Real prices: \", y_true)\n",
        "y_pred = prediction.yhat.values\n",
        "print(\"Predicted prices: \", y_pred)\n",
        "\n",
        "mse = mean_squared_error(y_true=y_true, y_pred=y_pred)#, squared=False)\n",
        "print(\"MSE =\", mse)\n",
        "mae = mean_absolute_error(y_true=y_true, y_pred=y_pred)\n",
        "print(\"MAE =\", mae)\n",
        "r2 = r2_score(y_true=y_true, y_pred=y_pred)\n",
        "print(\"r^2 =\", r2)"
      ],
      "execution_count": null,
      "outputs": [
        {
          "output_type": "stream",
          "text": [
            "Real prices:  [37337.535156 39406.941406 39995.90625  40008.421875 42235.546875\n",
            " 41626.195313 39974.894531 39730.23    ]\n",
            "Predicted prices:  [38512.61883616 39038.28140435 39563.94388084 40089.60583967\n",
            " 40610.15115989 41127.63284111 41645.11452234 42162.59620357]\n",
            "MSE = 1663303.7641894615\n",
            "MAE = 1035.4292996936847\n",
            "r^2 = 0.12131985717397231\n"
          ],
          "name": "stdout"
        }
      ]
    },
    {
      "cell_type": "code",
      "metadata": {
        "colab": {
          "base_uri": "https://localhost:8080/",
          "height": 441
        },
        "id": "4WL7ERJqHJDn",
        "outputId": "751a09fb-68af-49f0-c8b5-09c2caaf305d"
      },
      "source": [
        "m.plot_components(prediction)\n",
        "plt.show()"
      ],
      "execution_count": null,
      "outputs": [
        {
          "output_type": "display_data",
          "data": {
            "image/png": "[encoded data removed]",
            "text/plain": [
              "<Figure size 648x432 with 2 Axes>"
            ]
          },
          "metadata": {
            "tags": []
          }
        }
      ]
    },
    {
      "cell_type": "code",
      "metadata": {
        "id": "cFXJ_SAUHPoY"
      },
      "source": [
        "#https://realpython.com/python-nltk-sentiment-analysis/#using-nltks-pre-trained-sentiment-analyzer\n",
        "#https://futurice.com/blog/business-forecasting-with-facebook-prophet"
      ],
      "execution_count": null,
      "outputs": []
    }
  ]
}